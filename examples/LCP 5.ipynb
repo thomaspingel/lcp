{
 "cells": [
  {
   "cell_type": "code",
   "execution_count": 8,
   "metadata": {},
   "outputs": [],
   "source": [
    "import numpy as np\n",
    "import pandas as pd\n",
    "import geopandas\n",
    "import neilpy\n",
    "import lcp\n",
    "\n",
    "geopandas.io.file.fiona.drvsupport.supported_drivers['KML'] = 'rw'"
   ]
  },
  {
   "cell_type": "code",
   "execution_count": 9,
   "metadata": {},
   "outputs": [],
   "source": [
    "# Load data\n",
    "\n",
    "# nodes must have a unique ID in the first column, and then longitudes and latitudes in columns 2 and 3.\n",
    "# edges must have start and destination unique IDs that match those in nodes\n",
    "\n",
    "nodes = pd.read_csv('data/nodes.csv',index_col=0)\n",
    "edges = pd.read_csv('data/edges.csv')\n",
    "\n",
    "E, meta = neilpy.imread('data/cusco_elevation.tif')\n",
    "S = neilpy.slope(E,meta['cellsize'])"
   ]
  },
  {
   "cell_type": "code",
   "execution_count": 10,
   "metadata": {},
   "outputs": [
    {
     "ename": "NameError",
     "evalue": "name 'geopandas' is not defined",
     "output_type": "error",
     "traceback": [
      "\u001b[1;31m---------------------------------------------------------------------------\u001b[0m",
      "\u001b[1;31mNameError\u001b[0m                                 Traceback (most recent call last)",
      "\u001b[1;32m<ipython-input-10-039c0e0708a2>\u001b[0m in \u001b[0;36m<module>\u001b[1;34m\u001b[0m\n\u001b[0;32m      1\u001b[0m \u001b[1;31m#%% DIRECT\u001b[0m\u001b[1;33m\u001b[0m\u001b[1;33m\u001b[0m\u001b[1;33m\u001b[0m\u001b[0m\n\u001b[0;32m      2\u001b[0m \u001b[1;33m\u001b[0m\u001b[0m\n\u001b[1;32m----> 3\u001b[1;33m \u001b[0mgdf\u001b[0m \u001b[1;33m=\u001b[0m \u001b[0mlcp\u001b[0m\u001b[1;33m.\u001b[0m\u001b[0mdirect_routes\u001b[0m\u001b[1;33m(\u001b[0m\u001b[0mnodes\u001b[0m\u001b[1;33m,\u001b[0m\u001b[0medges\u001b[0m\u001b[1;33m)\u001b[0m\u001b[1;33m\u001b[0m\u001b[1;33m\u001b[0m\u001b[0m\n\u001b[0m\u001b[0;32m      4\u001b[0m \u001b[0mgdf\u001b[0m\u001b[1;33m.\u001b[0m\u001b[0mto_file\u001b[0m\u001b[1;33m(\u001b[0m\u001b[1;34m'out/direct.shp'\u001b[0m\u001b[1;33m)\u001b[0m\u001b[1;33m\u001b[0m\u001b[1;33m\u001b[0m\u001b[0m\n",
      "\u001b[1;32mC:\\Anaconda3\\envs\\neil\\lib\\site-packages\\lcp\\lcp.py\u001b[0m in \u001b[0;36mdirect_routes\u001b[1;34m(nodes, edges)\u001b[0m\n\u001b[0;32m    107\u001b[0m         \u001b[0mgdf\u001b[0m \u001b[1;33m=\u001b[0m \u001b[0mgdf\u001b[0m\u001b[1;33m.\u001b[0m\u001b[0mappend\u001b[0m\u001b[1;33m(\u001b[0m\u001b[0mdf\u001b[0m\u001b[1;33m,\u001b[0m\u001b[0mignore_index\u001b[0m\u001b[1;33m=\u001b[0m\u001b[1;32mTrue\u001b[0m\u001b[1;33m)\u001b[0m\u001b[1;33m\u001b[0m\u001b[1;33m\u001b[0m\u001b[0m\n\u001b[0;32m    108\u001b[0m \u001b[1;33m\u001b[0m\u001b[0m\n\u001b[1;32m--> 109\u001b[1;33m     \u001b[0mgdf\u001b[0m \u001b[1;33m=\u001b[0m \u001b[0mgeopandas\u001b[0m\u001b[1;33m.\u001b[0m\u001b[0mGeoDataFrame\u001b[0m\u001b[1;33m(\u001b[0m\u001b[0mgdf\u001b[0m\u001b[1;33m,\u001b[0m\u001b[0mgeometry\u001b[0m\u001b[1;33m=\u001b[0m\u001b[0mgdf\u001b[0m\u001b[1;33m[\u001b[0m\u001b[1;34m'geometry'\u001b[0m\u001b[1;33m]\u001b[0m\u001b[1;33m,\u001b[0m\u001b[0mcrs\u001b[0m\u001b[1;33m=\u001b[0m\u001b[1;36m4326\u001b[0m\u001b[1;33m)\u001b[0m\u001b[1;33m\u001b[0m\u001b[1;33m\u001b[0m\u001b[0m\n\u001b[0m\u001b[0;32m    110\u001b[0m \u001b[1;33m\u001b[0m\u001b[0m\n\u001b[0;32m    111\u001b[0m     \u001b[1;32mreturn\u001b[0m \u001b[0mgdf\u001b[0m\u001b[1;33m\u001b[0m\u001b[1;33m\u001b[0m\u001b[0m\n",
      "\u001b[1;31mNameError\u001b[0m: name 'geopandas' is not defined"
     ]
    }
   ],
   "source": [
    "#%% DIRECT\n",
    "\n",
    "gdf = lcp.direct_routes(nodes,edges)\n",
    "gdf.to_file('out/direct.shp')"
   ]
  },
  {
   "cell_type": "code",
   "execution_count": 9,
   "metadata": {},
   "outputs": [
    {
     "name": "stdout",
     "output_type": "stream",
     "text": [
      "Creating surface network for tobler\n",
      "Done creating surface network.\n",
      "Calculating costs and routes.\n",
      "Done calculating costs and routes.\n",
      "Calculating costs and routes.\n",
      "Done calculating costs and routes.\n",
      "Creating surface network for rademaker\n",
      "Done creating surface network.\n",
      "Calculating costs and routes.\n",
      "Done calculating costs and routes.\n",
      "Calculating costs and routes.\n",
      "Done calculating costs and routes.\n"
     ]
    }
   ],
   "source": [
    "#%% AREAL SLOPE EXAMPLE\n",
    "\n",
    "label = 'tobler'\n",
    "C = neilpy.cost_tobler_hiking_function(S)\n",
    "gdf = neilpy.get_areal_routes(nodes,edges,C,meta,label=label)\n",
    "gdf.to_file('out/' + label + '.shp')\n",
    "gdf.to_file('out/' + label + '.kml',driver='KML')\n",
    "\n",
    "label = 'rademaker'\n",
    "C = neilpy.cost_rademaker(S)\n",
    "gdf = neilpy.get_areal_routes(nodes,edges,C,meta,label=label)\n",
    "gdf.to_file('out/' + label + '.shp')\n",
    "gdf.to_file('out/' + label + '.kml',driver='KML')"
   ]
  },
  {
   "cell_type": "code",
   "execution_count": 10,
   "metadata": {},
   "outputs": [],
   "source": [
    "#%% LINEAR SLOPE EXAMPLE\n",
    "\n",
    "label = 'pingel_linear_9.25'\n",
    "scale_factor = 9.25\n",
    "\n",
    "df = neilpy.create_raster_network(E)\n",
    "df['slope'] = np.abs(df['source_value'] - df['target_value']) / (meta['cellsize']*df['distance'])  #dx/dz\n",
    "df['slope'] = np.rad2deg(np.arctan(df['slope']))\n",
    "df['slope'] = neilpy.cost_pingel_exponential(df['slope'],scale_factor)\n",
    "df['weight'] = df['distance'] * df['slope']\n",
    "\n",
    "gdf = neilpy.get_linear_routes(nodes, edges, df, meta, label=label)\n",
    "gdf.to_file('out/' + label + '.shp')\n",
    "gdf.to_file('out/' + label + '.kml',driver='KML')"
   ]
  }
 ],
 "metadata": {
  "kernelspec": {
   "display_name": "Python 3",
   "language": "python",
   "name": "python3"
  },
  "language_info": {
   "codemirror_mode": {
    "name": "ipython",
    "version": 3
   },
   "file_extension": ".py",
   "mimetype": "text/x-python",
   "name": "python",
   "nbconvert_exporter": "python",
   "pygments_lexer": "ipython3",
   "version": "3.8.6"
  }
 },
 "nbformat": 4,
 "nbformat_minor": 4
}
