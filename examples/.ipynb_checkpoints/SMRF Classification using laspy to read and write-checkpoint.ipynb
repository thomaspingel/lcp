{
 "cells": [
  {
   "cell_type": "code",
   "execution_count": 1,
   "metadata": {},
   "outputs": [],
   "source": [
    "import smrf\n",
    "import numpy as np\n",
    "from laspy.file import File"
   ]
  },
  {
   "cell_type": "code",
   "execution_count": 2,
   "metadata": {},
   "outputs": [],
   "source": [
    "fn = r\"data/DK22_partial.las\"\n",
    "inFile = File(fn)"
   ]
  },
  {
   "cell_type": "code",
   "execution_count": 3,
   "metadata": {},
   "outputs": [],
   "source": [
    "Zpro,t,object_cells,is_object_point = smrf.smrf(inFile.x,inFile.y,inFile.z,cellsize=5,windows=7,slope_threshold=.15,\n",
    "                                                elevation_threshold=.5,elevation_scaler=1.25,\n",
    "                                                low_filter_slope=5,low_outlier_fill=False)"
   ]
  },
  {
   "cell_type": "code",
   "execution_count": 4,
   "metadata": {},
   "outputs": [],
   "source": [
    "# We'll use the header from the original to save trouble, copy over the x,y,z coords and add the SMRFed \n",
    "# ground point classification. (SMRF returns a boolean vector of object points, so a little math to convert \n",
    "# to ASPRS standard 2-is-ground format.)\n",
    "\n",
    "outFile1 = File(r\"data/ground.las\", mode = \"w\", header = inFile.header)\n",
    "outFile1.x = inFile.x\n",
    "outFile1.y = inFile.y\n",
    "outFile1.z = inFile.z\n",
    "outFile1.classification = 2*(1-is_object_point.astype(np.int))\n",
    "outFile1.close()\n",
    "\n",
    "inFile.close()"
   ]
  }
 ],
 "metadata": {
  "kernelspec": {
   "display_name": "Python 3",
   "language": "python",
   "name": "python3"
  },
  "language_info": {
   "codemirror_mode": {
    "name": "ipython",
    "version": 3
   },
   "file_extension": ".py",
   "mimetype": "text/x-python",
   "name": "python",
   "nbconvert_exporter": "python",
   "pygments_lexer": "ipython3",
   "version": "3.8.6"
  }
 },
 "nbformat": 4,
 "nbformat_minor": 4
}
