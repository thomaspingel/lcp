{
 "cells": [
  {
   "cell_type": "code",
   "execution_count": 1,
   "metadata": {},
   "outputs": [],
   "source": [
    "import numpy as np\n",
    "import pandas as pd\n",
    "import geopandas\n",
    "import neilpy\n",
    "import lcp\n",
    "\n",
    "geopandas.io.file.fiona.drvsupport.supported_drivers['KML'] = 'rw'"
   ]
  },
  {
   "cell_type": "code",
   "execution_count": 2,
   "metadata": {},
   "outputs": [],
   "source": [
    "# Load data\n",
    "\n",
    "# nodes must have a unique ID in the first column, and then longitudes and latitudes in columns 2 and 3.\n",
    "# edges must have start and destination unique IDs that match those in nodes\n",
    "\n",
    "nodes = pd.read_csv('data/nodes.csv',index_col=0)\n",
    "edges = pd.read_csv('data/edges.csv')\n",
    "\n",
    "E, meta = neilpy.imread('data/cusco_elevation.tif')\n",
    "S = neilpy.slope(E,meta['cellsize'])"
   ]
  },
  {
   "cell_type": "code",
   "execution_count": 4,
   "metadata": {},
   "outputs": [],
   "source": [
    "#%% DIRECT\n",
    "\n",
    "gdf = lcp.direct_routes(nodes,edges)\n",
    "gdf.to_file('out/direct.shp')"
   ]
  },
  {
   "cell_type": "code",
   "execution_count": 6,
   "metadata": {},
   "outputs": [
    {
     "name": "stdout",
     "output_type": "stream",
     "text": [
      "Creating surface network for tobler\n",
      "Done creating surface network.\n"
     ]
    },
    {
     "ename": "NameError",
     "evalue": "name 'coord_transform' is not defined",
     "output_type": "error",
     "traceback": [
      "\u001b[1;31m---------------------------------------------------------------------------\u001b[0m",
      "\u001b[1;31mNameError\u001b[0m                                 Traceback (most recent call last)",
      "\u001b[1;32m<ipython-input-6-d102c7bc720d>\u001b[0m in \u001b[0;36m<module>\u001b[1;34m\u001b[0m\n\u001b[0;32m      3\u001b[0m \u001b[0mlabel\u001b[0m \u001b[1;33m=\u001b[0m \u001b[1;34m'tobler'\u001b[0m\u001b[1;33m\u001b[0m\u001b[1;33m\u001b[0m\u001b[0m\n\u001b[0;32m      4\u001b[0m \u001b[0mC\u001b[0m \u001b[1;33m=\u001b[0m \u001b[0mlcp\u001b[0m\u001b[1;33m.\u001b[0m\u001b[0mcost_tobler_hiking_function\u001b[0m\u001b[1;33m(\u001b[0m\u001b[0mS\u001b[0m\u001b[1;33m)\u001b[0m\u001b[1;33m\u001b[0m\u001b[1;33m\u001b[0m\u001b[0m\n\u001b[1;32m----> 5\u001b[1;33m \u001b[0mgdf\u001b[0m \u001b[1;33m=\u001b[0m \u001b[0mlcp\u001b[0m\u001b[1;33m.\u001b[0m\u001b[0mget_areal_routes\u001b[0m\u001b[1;33m(\u001b[0m\u001b[0mnodes\u001b[0m\u001b[1;33m,\u001b[0m\u001b[0medges\u001b[0m\u001b[1;33m,\u001b[0m\u001b[0mC\u001b[0m\u001b[1;33m,\u001b[0m\u001b[0mmeta\u001b[0m\u001b[1;33m,\u001b[0m\u001b[0mlabel\u001b[0m\u001b[1;33m=\u001b[0m\u001b[0mlabel\u001b[0m\u001b[1;33m)\u001b[0m\u001b[1;33m\u001b[0m\u001b[1;33m\u001b[0m\u001b[0m\n\u001b[0m\u001b[0;32m      6\u001b[0m \u001b[0mgdf\u001b[0m\u001b[1;33m.\u001b[0m\u001b[0mto_file\u001b[0m\u001b[1;33m(\u001b[0m\u001b[1;34m'out/'\u001b[0m \u001b[1;33m+\u001b[0m \u001b[0mlabel\u001b[0m \u001b[1;33m+\u001b[0m \u001b[1;34m'.shp'\u001b[0m\u001b[1;33m)\u001b[0m\u001b[1;33m\u001b[0m\u001b[1;33m\u001b[0m\u001b[0m\n\u001b[0;32m      7\u001b[0m \u001b[0mgdf\u001b[0m\u001b[1;33m.\u001b[0m\u001b[0mto_file\u001b[0m\u001b[1;33m(\u001b[0m\u001b[1;34m'out/'\u001b[0m \u001b[1;33m+\u001b[0m \u001b[0mlabel\u001b[0m \u001b[1;33m+\u001b[0m \u001b[1;34m'.kml'\u001b[0m\u001b[1;33m,\u001b[0m\u001b[0mdriver\u001b[0m\u001b[1;33m=\u001b[0m\u001b[1;34m'KML'\u001b[0m\u001b[1;33m)\u001b[0m\u001b[1;33m\u001b[0m\u001b[1;33m\u001b[0m\u001b[0m\n",
      "\u001b[1;32mC:\\Anaconda3\\envs\\neil\\lib\\site-packages\\lcp\\lcp.py\u001b[0m in \u001b[0;36mget_areal_routes\u001b[1;34m(nodes, edges, surface, meta, label)\u001b[0m\n\u001b[0;32m    154\u001b[0m     \u001b[0mstart_list\u001b[0m\u001b[1;33m,\u001b[0m \u001b[0mend_list\u001b[0m\u001b[1;33m,\u001b[0m \u001b[0mids\u001b[0m\u001b[1;33m,\u001b[0m \u001b[0mstart_coords\u001b[0m\u001b[1;33m,\u001b[0m \u001b[0mend_coords\u001b[0m \u001b[1;33m=\u001b[0m \u001b[0mget_lists\u001b[0m\u001b[1;33m(\u001b[0m\u001b[0mnodes\u001b[0m\u001b[1;33m,\u001b[0m\u001b[0medges\u001b[0m\u001b[1;33m)\u001b[0m\u001b[1;33m\u001b[0m\u001b[1;33m\u001b[0m\u001b[0m\n\u001b[0;32m    155\u001b[0m \u001b[1;33m\u001b[0m\u001b[0m\n\u001b[1;32m--> 156\u001b[1;33m     \u001b[0mconv_start_coords\u001b[0m\u001b[1;33m,\u001b[0m \u001b[0mconv_end_coords\u001b[0m \u001b[1;33m=\u001b[0m \u001b[0mlcp_coordinate_conversion\u001b[0m\u001b[1;33m(\u001b[0m\u001b[0mstart_coords\u001b[0m\u001b[1;33m,\u001b[0m\u001b[0mend_coords\u001b[0m\u001b[1;33m,\u001b[0m\u001b[0mmeta\u001b[0m\u001b[1;33m[\u001b[0m\u001b[1;34m'crs'\u001b[0m\u001b[1;33m]\u001b[0m\u001b[1;33m,\u001b[0m\u001b[0mmeta\u001b[0m\u001b[1;33m[\u001b[0m\u001b[1;34m'transform'\u001b[0m\u001b[1;33m]\u001b[0m\u001b[1;33m)\u001b[0m\u001b[1;33m\u001b[0m\u001b[1;33m\u001b[0m\u001b[0m\n\u001b[0m\u001b[0;32m    157\u001b[0m \u001b[1;33m\u001b[0m\u001b[0m\n\u001b[0;32m    158\u001b[0m     \u001b[1;32mfor\u001b[0m \u001b[0mi\u001b[0m\u001b[1;33m,\u001b[0m\u001b[0mthis_start_coord\u001b[0m \u001b[1;32min\u001b[0m \u001b[0menumerate\u001b[0m\u001b[1;33m(\u001b[0m\u001b[0mconv_start_coords\u001b[0m\u001b[1;33m)\u001b[0m\u001b[1;33m:\u001b[0m\u001b[1;33m\u001b[0m\u001b[1;33m\u001b[0m\u001b[0m\n",
      "\u001b[1;32mC:\\Anaconda3\\envs\\neil\\lib\\site-packages\\lcp\\lcp.py\u001b[0m in \u001b[0;36mlcp_coordinate_conversion\u001b[1;34m(start_coords, end_coords, crs, transform)\u001b[0m\n\u001b[0;32m    123\u001b[0m \u001b[1;33m\u001b[0m\u001b[0m\n\u001b[0;32m    124\u001b[0m         \u001b[1;31m# Convert from lat/lon to map coordinates\u001b[0m\u001b[1;33m\u001b[0m\u001b[1;33m\u001b[0m\u001b[1;33m\u001b[0m\u001b[0m\n\u001b[1;32m--> 125\u001b[1;33m         \u001b[0mthis_start_coord\u001b[0m \u001b[1;33m=\u001b[0m \u001b[0mcoord_transform\u001b[0m\u001b[1;33m(\u001b[0m\u001b[1;33m*\u001b[0m\u001b[0mthis_start_coord\u001b[0m\u001b[1;33m,\u001b[0m\u001b[1;36m4326\u001b[0m\u001b[1;33m,\u001b[0m\u001b[0mcrs\u001b[0m\u001b[1;33m)\u001b[0m\u001b[1;33m\u001b[0m\u001b[1;33m\u001b[0m\u001b[0m\n\u001b[0m\u001b[0;32m    126\u001b[0m         \u001b[0mthese_end_coords\u001b[0m \u001b[1;33m=\u001b[0m \u001b[1;33m[\u001b[0m\u001b[0mcoord_transform\u001b[0m\u001b[1;33m(\u001b[0m\u001b[1;33m*\u001b[0m\u001b[0mitem\u001b[0m\u001b[1;33m,\u001b[0m\u001b[1;36m4326\u001b[0m\u001b[1;33m,\u001b[0m\u001b[0mcrs\u001b[0m\u001b[1;33m)\u001b[0m \u001b[1;32mfor\u001b[0m \u001b[0mitem\u001b[0m \u001b[1;32min\u001b[0m \u001b[0mthese_end_coords\u001b[0m\u001b[1;33m]\u001b[0m\u001b[1;33m\u001b[0m\u001b[1;33m\u001b[0m\u001b[0m\n\u001b[0;32m    127\u001b[0m \u001b[1;33m\u001b[0m\u001b[0m\n",
      "\u001b[1;31mNameError\u001b[0m: name 'coord_transform' is not defined"
     ]
    }
   ],
   "source": [
    "#%% AREAL SLOPE EXAMPLE\n",
    "\n",
    "label = 'tobler'\n",
    "C = lcp.cost_tobler_hiking_function(S)\n",
    "gdf = lcp.get_areal_routes(nodes,edges,C,meta,label=label)\n",
    "gdf.to_file('out/' + label + '.shp')\n",
    "gdf.to_file('out/' + label + '.kml',driver='KML')\n",
    "\n",
    "label = 'rademaker'\n",
    "C = lcp.cost_rademaker(S)\n",
    "gdf = lcp.get_areal_routes(nodes,edges,C,meta,label=label)\n",
    "gdf.to_file('out/' + label + '.shp')\n",
    "gdf.to_file('out/' + label + '.kml',driver='KML')"
   ]
  },
  {
   "cell_type": "code",
   "execution_count": 10,
   "metadata": {},
   "outputs": [],
   "source": [
    "#%% LINEAR SLOPE EXAMPLE\n",
    "\n",
    "label = 'pingel_linear_9.25'\n",
    "scale_factor = 9.25\n",
    "\n",
    "df = neilpy.create_raster_network(E)\n",
    "df['slope'] = np.abs(df['source_value'] - df['target_value']) / (meta['cellsize']*df['distance'])  #dx/dz\n",
    "df['slope'] = np.rad2deg(np.arctan(df['slope']))\n",
    "df['slope'] = neilpy.cost_pingel_exponential(df['slope'],scale_factor)\n",
    "df['weight'] = df['distance'] * df['slope']\n",
    "\n",
    "gdf = neilpy.get_linear_routes(nodes, edges, df, meta, label=label)\n",
    "gdf.to_file('out/' + label + '.shp')\n",
    "gdf.to_file('out/' + label + '.kml',driver='KML')"
   ]
  }
 ],
 "metadata": {
  "kernelspec": {
   "display_name": "Python 3",
   "language": "python",
   "name": "python3"
  },
  "language_info": {
   "codemirror_mode": {
    "name": "ipython",
    "version": 3
   },
   "file_extension": ".py",
   "mimetype": "text/x-python",
   "name": "python",
   "nbconvert_exporter": "python",
   "pygments_lexer": "ipython3",
   "version": "3.8.6"
  }
 },
 "nbformat": 4,
 "nbformat_minor": 4
}
