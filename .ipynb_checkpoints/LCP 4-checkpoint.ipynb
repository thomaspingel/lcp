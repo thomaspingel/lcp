{
 "cells": [
  {
   "cell_type": "code",
   "execution_count": 5,
   "metadata": {},
   "outputs": [],
   "source": [
    "import numpy as np\n",
    "import pandas as pd\n",
    "import geopandas\n",
    "import neilpy\n",
    "\n",
    "geopandas.io.file.fiona.drvsupport.supported_drivers['KML'] = 'rw'"
   ]
  },
  {
   "cell_type": "code",
   "execution_count": 2,
   "metadata": {},
   "outputs": [],
   "source": [
    "# Load data\n",
    "\n",
    "# nodes must have a unique ID in the first column, and then longitudes and latitudes in columns 2 and 3.\n",
    "# edges must have start and destination unique IDs that match those in nodes\n",
    "\n",
    "nodes = pd.read_csv('data/nodes.csv',index_col=0)\n",
    "edges = pd.read_csv('data/edges.csv')\n",
    "\n",
    "E, meta = neilpy.imread('data/cusco_elevation.tif')\n",
    "S = neilpy.slope(E,meta['cellsize'])"
   ]
  },
  {
   "cell_type": "code",
   "execution_count": 8,
   "metadata": {},
   "outputs": [],
   "source": [
    "#%% DIRECT\n",
    "\n",
    "gdf = neilpy.direct_routes(nodes,edges)\n",
    "gdf.to_file('out/direct.shp')"
   ]
  },
  {
   "cell_type": "code",
   "execution_count": 9,
   "metadata": {},
   "outputs": [
    {
     "name": "stdout",
     "output_type": "stream",
     "text": [
      "Creating surface network for tobler\n",
      "Done creating surface network.\n",
      "Calculating costs and routes.\n",
      "Done calculating costs and routes.\n",
      "Calculating costs and routes.\n",
      "Done calculating costs and routes.\n",
      "Creating surface network for rademaker\n",
      "Done creating surface network.\n",
      "Calculating costs and routes.\n",
      "Done calculating costs and routes.\n",
      "Calculating costs and routes.\n",
      "Done calculating costs and routes.\n"
     ]
    }
   ],
   "source": [
    "#%% AREAL SLOPE EXAMPLE\n",
    "\n",
    "label = 'tobler'\n",
    "C = neilpy.cost_tobler_hiking_function(S)\n",
    "gdf = neilpy.get_areal_routes(nodes,edges,C,meta,label=label)\n",
    "gdf.to_file('out/' + label + '.shp')\n",
    "gdf.to_file('out/' + label + '.kml',driver='KML')\n",
    "\n",
    "label = 'rademaker'\n",
    "C = neilpy.cost_rademaker(S)\n",
    "gdf = neilpy.get_areal_routes(nodes,edges,C,meta,label=label)\n",
    "gdf.to_file('out/' + label + '.shp')\n",
    "gdf.to_file('out/' + label + '.kml',driver='KML')"
   ]
  },
  {
   "cell_type": "code",
   "execution_count": 10,
   "metadata": {},
   "outputs": [],
   "source": [
    "#%% LINEAR SLOPE EXAMPLE\n",
    "\n",
    "label = 'pingel_linear_9.25'\n",
    "scale_factor = 9.25\n",
    "\n",
    "df = neilpy.create_raster_network(E)\n",
    "df['slope'] = np.abs(df['source_value'] - df['target_value']) / (meta['cellsize']*df['distance'])  #dx/dz\n",
    "df['slope'] = np.rad2deg(np.arctan(df['slope']))\n",
    "df['slope'] = neilpy.cost_pingel_exponential(df['slope'],scale_factor)\n",
    "df['weight'] = df['distance'] * df['slope']\n",
    "\n",
    "gdf = neilpy.get_linear_routes(nodes, edges, df, meta, label=label)\n",
    "gdf.to_file('out/' + label + '.shp')\n",
    "gdf.to_file('out/' + label + '.kml',driver='KML')"
   ]
  }
 ],
 "metadata": {
  "kernelspec": {
   "display_name": "Python 3",
   "language": "python",
   "name": "python3"
  },
  "language_info": {
   "codemirror_mode": {
    "name": "ipython",
    "version": 3
   },
   "file_extension": ".py",
   "mimetype": "text/x-python",
   "name": "python",
   "nbconvert_exporter": "python",
   "pygments_lexer": "ipython3",
   "version": "3.8.6"
  }
 },
 "nbformat": 4,
 "nbformat_minor": 4
}
